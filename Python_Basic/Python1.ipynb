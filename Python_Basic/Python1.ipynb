{
 "cells": [
  {
   "cell_type": "markdown",
   "id": "1b95dcc4",
   "metadata": {},
   "source": [
    "# Python for Big Data\n",
    "\n",
    "1. Variables\n",
    "2. String\n",
    "3. Function print\n",
    "4. Booleanos y Condicionales\n",
    "5. Loops\n",
    "6. Functions\n",
    "7. Manejo de excepciones"
   ]
  },
  {
   "cell_type": "markdown",
   "id": "c09710e2",
   "metadata": {},
   "source": [
    "# 1. Variables"
   ]
  },
  {
   "cell_type": "code",
   "execution_count": 2,
   "id": "c91860f8",
   "metadata": {},
   "outputs": [
    {
     "ename": "NameError",
     "evalue": "name 'resultado' is not defined",
     "output_type": "error",
     "traceback": [
      "\u001b[31m---------------------------------------------------------------------------\u001b[39m",
      "\u001b[31mNameError\u001b[39m                                 Traceback (most recent call last)",
      "\u001b[36mCell\u001b[39m\u001b[36m \u001b[39m\u001b[32mIn[2]\u001b[39m\u001b[32m, line 2\u001b[39m\n\u001b[32m      1\u001b[39m \u001b[38;5;66;03m# Variables\u001b[39;00m\n\u001b[32m----> \u001b[39m\u001b[32m2\u001b[39m \u001b[43mresultado\u001b[49m\n",
      "\u001b[31mNameError\u001b[39m: name 'resultado' is not defined"
     ]
    }
   ],
   "source": [
    "# Variables\n",
    "resultado"
   ]
  },
  {
   "cell_type": "code",
   "execution_count": null,
   "id": "85576eab",
   "metadata": {},
   "outputs": [],
   "source": [
    "# Declarando variables\n",
    "monto_deuda=1000\n",
    "moneda=\"soles  \""
   ]
  },
  {
   "cell_type": "code",
   "execution_count": null,
   "id": "b347941a",
   "metadata": {},
   "outputs": [
    {
     "data": {
      "text/plain": [
       "1000"
      ]
     },
     "execution_count": 2,
     "metadata": {},
     "output_type": "execute_result"
    }
   ],
   "source": [
    "# mostrar variables\n",
    "monto_deuda"
   ]
  },
  {
   "cell_type": "code",
   "execution_count": null,
   "id": "db466796",
   "metadata": {},
   "outputs": [
    {
     "data": {
      "text/plain": [
       "'soles  '"
      ]
     },
     "execution_count": 3,
     "metadata": {},
     "output_type": "execute_result"
    }
   ],
   "source": [
    "moneda"
   ]
  },
  {
   "cell_type": "code",
   "execution_count": null,
   "id": "197c3e48",
   "metadata": {},
   "outputs": [],
   "source": [
    "# Interactuar con el usuario\n",
    "monto_interes=int(input(\"Ingrese el monto del interes: \"))"
   ]
  },
  {
   "cell_type": "code",
   "execution_count": null,
   "id": "0e7f5f9c",
   "metadata": {},
   "outputs": [
    {
     "data": {
      "text/plain": [
       "4000"
      ]
     },
     "execution_count": 4,
     "metadata": {},
     "output_type": "execute_result"
    }
   ],
   "source": [
    "# operando con variables\n",
    "resultado=monto_deuda*4\n",
    "resultado"
   ]
  },
  {
   "cell_type": "code",
   "execution_count": null,
   "id": "538971e3",
   "metadata": {},
   "outputs": [
    {
     "data": {
      "text/plain": [
       "int"
      ]
     },
     "execution_count": 5,
     "metadata": {},
     "output_type": "execute_result"
    }
   ],
   "source": [
    "# Tipo de variable\n",
    "type(monto_deuda)"
   ]
  },
  {
   "cell_type": "code",
   "execution_count": null,
   "id": "b7e94010",
   "metadata": {},
   "outputs": [
    {
     "data": {
      "text/plain": [
       "str"
      ]
     },
     "execution_count": 6,
     "metadata": {},
     "output_type": "execute_result"
    }
   ],
   "source": [
    "type(moneda)"
   ]
  },
  {
   "cell_type": "code",
   "execution_count": null,
   "id": "0996181d",
   "metadata": {},
   "outputs": [
    {
     "data": {
      "text/plain": [
       "16000"
      ]
     },
     "execution_count": 7,
     "metadata": {},
     "output_type": "execute_result"
    }
   ],
   "source": [
    "# operar variables\n",
    "4*resultado"
   ]
  },
  {
   "cell_type": "code",
   "execution_count": null,
   "id": "cc3de9e4",
   "metadata": {},
   "outputs": [
    {
     "data": {
      "text/plain": [
       "'1000'"
      ]
     },
     "execution_count": 8,
     "metadata": {},
     "output_type": "execute_result"
    }
   ],
   "source": [
    "# cambiando el tipo de variable\n",
    "str_monto_deuda=str(monto_deuda)\n",
    "str_monto_deuda"
   ]
  },
  {
   "cell_type": "code",
   "execution_count": null,
   "id": "9e2d065b",
   "metadata": {},
   "outputs": [
    {
     "data": {
      "text/plain": [
       "1000"
      ]
     },
     "execution_count": 9,
     "metadata": {},
     "output_type": "execute_result"
    }
   ],
   "source": [
    "int_monto_deuda=int(str_monto_deuda)\n",
    "int_monto_deuda"
   ]
  },
  {
   "cell_type": "markdown",
   "id": "f5e0762c",
   "metadata": {},
   "source": [
    "# 2. String"
   ]
  },
  {
   "cell_type": "code",
   "execution_count": null,
   "id": "1a2fabf8",
   "metadata": {},
   "outputs": [
    {
     "data": {
      "text/plain": [
       "'Hola'"
      ]
     },
     "execution_count": 11,
     "metadata": {},
     "output_type": "execute_result"
    }
   ],
   "source": [
    "# Concatenar\n",
    "'Ho' + 'la'"
   ]
  },
  {
   "cell_type": "code",
   "execution_count": null,
   "id": "21fc4488",
   "metadata": {},
   "outputs": [],
   "source": [
    "# Comillas simples o dobles\n",
    "text_1=\"Mi primer mensaje\"\n",
    "text_2='Mi segundo mensaje'"
   ]
  },
  {
   "cell_type": "code",
   "execution_count": null,
   "id": "eb921a0b",
   "metadata": {},
   "outputs": [
    {
     "data": {
      "text/plain": [
       "'Mi primer mensaje'"
      ]
     },
     "execution_count": 13,
     "metadata": {},
     "output_type": "execute_result"
    }
   ],
   "source": [
    "text_1"
   ]
  },
  {
   "cell_type": "code",
   "execution_count": null,
   "id": "a77fa925",
   "metadata": {},
   "outputs": [
    {
     "data": {
      "text/plain": [
       "'Mi segundo mensaje'"
      ]
     },
     "execution_count": 14,
     "metadata": {},
     "output_type": "execute_result"
    }
   ],
   "source": [
    "text_2"
   ]
  },
  {
   "cell_type": "code",
   "execution_count": null,
   "id": "70a70184",
   "metadata": {},
   "outputs": [],
   "source": [
    "# Comillas triples\n",
    "consulta = \"\"\"\n",
    "select * from users\n",
    "where ID = 8\n",
    "group by ADMIN\n",
    "\"\"\""
   ]
  },
  {
   "cell_type": "code",
   "execution_count": null,
   "id": "9d541d4b",
   "metadata": {},
   "outputs": [
    {
     "data": {
      "text/plain": [
       "'\\nselect * from users\\nwhere ID = 8\\ngroup by ADMIN\\n'"
      ]
     },
     "execution_count": 16,
     "metadata": {},
     "output_type": "execute_result"
    }
   ],
   "source": [
    "consulta"
   ]
  },
  {
   "cell_type": "code",
   "execution_count": null,
   "id": "633a6988",
   "metadata": {},
   "outputs": [],
   "source": [
    "# oPERACIONES CON sTRING\n",
    "cadena_1=\"hola mundo\"\n",
    "cadena_2=\"5\"\n",
    "cadena_3=\"cinco\""
   ]
  },
  {
   "cell_type": "code",
   "execution_count": null,
   "id": "964264d2",
   "metadata": {},
   "outputs": [
    {
     "data": {
      "text/plain": [
       "'Hola mundo'"
      ]
     },
     "execution_count": 18,
     "metadata": {},
     "output_type": "execute_result"
    }
   ],
   "source": [
    "cadena_1.capitalize()"
   ]
  },
  {
   "cell_type": "code",
   "execution_count": null,
   "id": "fa679368",
   "metadata": {},
   "outputs": [
    {
     "data": {
      "text/plain": [
       "'CINCO'"
      ]
     },
     "execution_count": 19,
     "metadata": {},
     "output_type": "execute_result"
    }
   ],
   "source": [
    "cadena_3.upper()"
   ]
  },
  {
   "cell_type": "code",
   "execution_count": null,
   "id": "bdc2e81a",
   "metadata": {},
   "outputs": [
    {
     "data": {
      "text/plain": [
       "'cinco'"
      ]
     },
     "execution_count": 20,
     "metadata": {},
     "output_type": "execute_result"
    }
   ],
   "source": [
    "cadena_3.lower()"
   ]
  },
  {
   "cell_type": "code",
   "execution_count": null,
   "id": "0ca7917f",
   "metadata": {},
   "outputs": [
    {
     "data": {
      "text/plain": [
       "'Hola Mundo'"
      ]
     },
     "execution_count": 21,
     "metadata": {},
     "output_type": "execute_result"
    }
   ],
   "source": [
    "cadena_1.title()"
   ]
  },
  {
   "cell_type": "code",
   "execution_count": null,
   "id": "a59fb688",
   "metadata": {},
   "outputs": [
    {
     "data": {
      "text/plain": [
       "['hola', 'mundo']"
      ]
     },
     "execution_count": 25,
     "metadata": {},
     "output_type": "execute_result"
    }
   ],
   "source": [
    "#dividir una cadena\n",
    "cadena_1.split()"
   ]
  },
  {
   "cell_type": "code",
   "execution_count": null,
   "id": "698fe657",
   "metadata": {},
   "outputs": [
    {
     "data": {
      "text/plain": [
       "2"
      ]
     },
     "execution_count": 23,
     "metadata": {},
     "output_type": "execute_result"
    }
   ],
   "source": [
    "cadena_1.count(\"o\")"
   ]
  },
  {
   "cell_type": "code",
   "execution_count": null,
   "id": "72912f4e",
   "metadata": {},
   "outputs": [
    {
     "data": {
      "text/plain": [
       "10"
      ]
     },
     "execution_count": 24,
     "metadata": {},
     "output_type": "execute_result"
    }
   ],
   "source": [
    "# longitud de uan cadena\n",
    "len(cadena_1)"
   ]
  },
  {
   "cell_type": "code",
   "execution_count": null,
   "id": "2c8033e1",
   "metadata": {},
   "outputs": [
    {
     "data": {
      "text/plain": [
       "['hola ', 'undo']"
      ]
     },
     "execution_count": 26,
     "metadata": {},
     "output_type": "execute_result"
    }
   ],
   "source": [
    "# quitar letra string\n",
    "cadena_1.split(\"m\")"
   ]
  },
  {
   "cell_type": "code",
   "execution_count": 11,
   "id": "23bdc0c7",
   "metadata": {},
   "outputs": [
    {
     "data": {
      "text/plain": [
       "'(Hola Mundo),'"
      ]
     },
     "execution_count": 11,
     "metadata": {},
     "output_type": "execute_result"
    }
   ],
   "source": [
    "# limpiando extremos de un string\n",
    "cadena_4='(Hola Mundo),'\n",
    "cadena_4.strip()"
   ]
  },
  {
   "cell_type": "code",
   "execution_count": null,
   "id": "569c1d1a",
   "metadata": {},
   "outputs": [
    {
     "data": {
      "text/plain": [
       "'Hola Mundo'"
      ]
     },
     "execution_count": 29,
     "metadata": {},
     "output_type": "execute_result"
    }
   ],
   "source": [
    "cadena_4.strip('(), ')"
   ]
  },
  {
   "cell_type": "code",
   "execution_count": 3,
   "id": "ec288188",
   "metadata": {},
   "outputs": [
    {
     "data": {
      "text/plain": [
       "'Hola Hi'"
      ]
     },
     "execution_count": 3,
     "metadata": {},
     "output_type": "execute_result"
    }
   ],
   "source": [
    "# Reemplazar string\n",
    "cadena_5 ='Hola Mundo' \n",
    "cadena_5.replace('Mundo','Hi')"
   ]
  },
  {
   "cell_type": "code",
   "execution_count": 4,
   "id": "4e26a408",
   "metadata": {},
   "outputs": [
    {
     "data": {
      "text/plain": [
       "1"
      ]
     },
     "execution_count": 4,
     "metadata": {},
     "output_type": "execute_result"
    }
   ],
   "source": [
    "cadena_5.index('o')"
   ]
  },
  {
   "cell_type": "code",
   "execution_count": 5,
   "id": "16f0b6ad",
   "metadata": {},
   "outputs": [
    {
     "data": {
      "text/plain": [
       "9"
      ]
     },
     "execution_count": 5,
     "metadata": {},
     "output_type": "execute_result"
    }
   ],
   "source": [
    "cadena_5.index('o', 6)"
   ]
  },
  {
   "cell_type": "code",
   "execution_count": 7,
   "id": "0e9ad7b5",
   "metadata": {},
   "outputs": [
    {
     "data": {
      "text/plain": [
       "'a'"
      ]
     },
     "execution_count": 7,
     "metadata": {},
     "output_type": "execute_result"
    }
   ],
   "source": [
    "cadena_5[3]"
   ]
  },
  {
   "cell_type": "code",
   "execution_count": 8,
   "id": "0703334b",
   "metadata": {},
   "outputs": [
    {
     "data": {
      "text/plain": [
       "'d'"
      ]
     },
     "execution_count": 8,
     "metadata": {},
     "output_type": "execute_result"
    }
   ],
   "source": [
    "cadena_5[-2]"
   ]
  },
  {
   "cell_type": "code",
   "execution_count": 9,
   "id": "14c10d39",
   "metadata": {},
   "outputs": [
    {
     "data": {
      "text/plain": [
       "'la M'"
      ]
     },
     "execution_count": 9,
     "metadata": {},
     "output_type": "execute_result"
    }
   ],
   "source": [
    "cadena_5[2:-4]"
   ]
  },
  {
   "cell_type": "code",
   "execution_count": 10,
   "id": "cb9ec373",
   "metadata": {},
   "outputs": [
    {
     "data": {
      "text/plain": [
       "'odnuM aloH'"
      ]
     },
     "execution_count": 10,
     "metadata": {},
     "output_type": "execute_result"
    }
   ],
   "source": [
    "#inviertiendo al cadena\n",
    "cadena_5[::-1]"
   ]
  },
  {
   "cell_type": "code",
   "execution_count": 12,
   "id": "fd2a060e",
   "metadata": {},
   "outputs": [
    {
     "data": {
      "text/plain": [
       "['HOLA', 'MUNDO']"
      ]
     },
     "execution_count": 12,
     "metadata": {},
     "output_type": "execute_result"
    }
   ],
   "source": [
    "#llamada a una cadena\n",
    "cadena_4.strip('(), ').upper().split()"
   ]
  },
  {
   "cell_type": "code",
   "execution_count": 24,
   "id": "9f988c6b",
   "metadata": {},
   "outputs": [
    {
     "data": {
      "text/plain": [
       "'Hola Diego, este es el curos de Topicos Especiales en Intelidengia de Negocios '"
      ]
     },
     "execution_count": 24,
     "metadata": {},
     "output_type": "execute_result"
    }
   ],
   "source": [
    "#python f-string\n",
    "nonbre=\"Diego\"\n",
    "curso ='Topicos Especiales en Intelidengia de Negocios '\n",
    "f'Hola {nonbre}, este es el curos de {curso}'\n"
   ]
  },
  {
   "cell_type": "code",
   "execution_count": 14,
   "id": "ad8baf32",
   "metadata": {},
   "outputs": [],
   "source": [
    "string_1=\"Hola mundo\"\n",
    "string_2='5'\n",
    "string_3='cinco'"
   ]
  },
  {
   "cell_type": "code",
   "execution_count": 15,
   "id": "8e1e4e51",
   "metadata": {},
   "outputs": [
    {
     "data": {
      "text/plain": [
       "False"
      ]
     },
     "execution_count": 15,
     "metadata": {},
     "output_type": "execute_result"
    }
   ],
   "source": [
    "string_1.isdigit()\n"
   ]
  },
  {
   "cell_type": "code",
   "execution_count": 16,
   "id": "bfa2f2fb",
   "metadata": {},
   "outputs": [
    {
     "data": {
      "text/plain": [
       "True"
      ]
     },
     "execution_count": 16,
     "metadata": {},
     "output_type": "execute_result"
    }
   ],
   "source": [
    "string_2.isdigit()"
   ]
  },
  {
   "cell_type": "code",
   "execution_count": 17,
   "id": "adaddcd5",
   "metadata": {},
   "outputs": [
    {
     "data": {
      "text/plain": [
       "True"
      ]
     },
     "execution_count": 17,
     "metadata": {},
     "output_type": "execute_result"
    }
   ],
   "source": [
    "string_3.isalpha()"
   ]
  },
  {
   "cell_type": "code",
   "execution_count": 18,
   "id": "f511b810",
   "metadata": {},
   "outputs": [
    {
     "data": {
      "text/plain": [
       "'abcdefghijklmnopqrstuvwxyzABCDEFGHIJKLMNOPQRSTUVWXYZ'"
      ]
     },
     "execution_count": 18,
     "metadata": {},
     "output_type": "execute_result"
    }
   ],
   "source": [
    "import string\n",
    "string.ascii_letters\n"
   ]
  },
  {
   "cell_type": "code",
   "execution_count": 19,
   "id": "8ccbdfb6",
   "metadata": {},
   "outputs": [
    {
     "data": {
      "text/plain": [
       "'abcdefghijklmnopqrstuvwxyz'"
      ]
     },
     "execution_count": 19,
     "metadata": {},
     "output_type": "execute_result"
    }
   ],
   "source": [
    "string.ascii_lowercase"
   ]
  },
  {
   "cell_type": "code",
   "execution_count": 20,
   "id": "9137f2fa",
   "metadata": {},
   "outputs": [
    {
     "data": {
      "text/plain": [
       "'ABCDEFGHIJKLMNOPQRSTUVWXYZ'"
      ]
     },
     "execution_count": 20,
     "metadata": {},
     "output_type": "execute_result"
    }
   ],
   "source": [
    "string.ascii_uppercase"
   ]
  },
  {
   "cell_type": "markdown",
   "id": "9ae64517",
   "metadata": {},
   "source": [
    "# 3. Funcion Print"
   ]
  },
  {
   "cell_type": "code",
   "execution_count": 21,
   "id": "58e1b600",
   "metadata": {},
   "outputs": [
    {
     "name": "stdout",
     "output_type": "stream",
     "text": [
      "Hola mundo\n"
     ]
    }
   ],
   "source": [
    "print(string_1 )"
   ]
  },
  {
   "cell_type": "code",
   "execution_count": 22,
   "id": "af853076",
   "metadata": {},
   "outputs": [
    {
     "name": "stdout",
     "output_type": "stream",
     "text": [
      "<class 'str'>\n"
     ]
    }
   ],
   "source": [
    "print(type(string_1))"
   ]
  },
  {
   "cell_type": "code",
   "execution_count": 23,
   "id": "30cd6fdb",
   "metadata": {},
   "outputs": [
    {
     "name": "stdout",
     "output_type": "stream",
     "text": [
      "<class 'int'>\n"
     ]
    }
   ],
   "source": [
    "print(type(5))"
   ]
  },
  {
   "cell_type": "code",
   "execution_count": 28,
   "id": "1b0dd1b8",
   "metadata": {},
   "outputs": [
    {
     "name": "stdout",
     "output_type": "stream",
     "text": [
      "Mi nombre es: Diego\n",
      "Mi nombre es: Diego\n"
     ]
    }
   ],
   "source": [
    "nombre=\"Diego\"\n",
    "print('Mi nombre es:',nombre)\n",
    "print(f'Mi nombre es: {nombre}')"
   ]
  },
  {
   "cell_type": "code",
   "execution_count": 30,
   "id": "5447b02e",
   "metadata": {},
   "outputs": [
    {
     "name": "stdout",
     "output_type": "stream",
     "text": [
      "Los datos del curso son: \n",
      "Curso  \t\t: Topicos Especiales en Inteligencia de Negocios \n",
      "Ciclo \t\t: Sexto \n",
      "Tipo Curso \t: Electivo\n"
     ]
    }
   ],
   "source": [
    "print('Los datos del curso son: \\nCurso  \\t\\t: Topicos Especiales en Inteligencia de Negocios \\nCiclo \\t\\t: Sexto \\nTipo Curso \\t: Electivo')"
   ]
  },
  {
   "cell_type": "markdown",
   "id": "00a76873",
   "metadata": {},
   "source": [
    "#4. Booleanos y condicionales"
   ]
  },
  {
   "cell_type": "code",
   "execution_count": 32,
   "id": "d8169df5",
   "metadata": {},
   "outputs": [
    {
     "name": "stdout",
     "output_type": "stream",
     "text": [
      "<class 'bool'>\n"
     ]
    }
   ],
   "source": [
    "final_page = True\n",
    "print(type(final_page))"
   ]
  },
  {
   "cell_type": "code",
   "execution_count": 35,
   "id": "472d6126",
   "metadata": {},
   "outputs": [
    {
     "name": "stdout",
     "output_type": "stream",
     "text": [
      "Es la ultima pagina\n"
     ]
    }
   ],
   "source": [
    "if final_page:\n",
    "    print(\"Es la ultima pagina\")    \n",
    "else:\n",
    "    print(\"No es la ultima pagina\")"
   ]
  },
  {
   "cell_type": "code",
   "execution_count": 36,
   "id": "0b40c029",
   "metadata": {},
   "outputs": [
    {
     "data": {
      "text/plain": [
       "False"
      ]
     },
     "execution_count": 36,
     "metadata": {},
     "output_type": "execute_result"
    }
   ],
   "source": [
    "#operadores logicos\n",
    "not True"
   ]
  },
  {
   "cell_type": "code",
   "execution_count": 37,
   "id": "c38116a2",
   "metadata": {},
   "outputs": [
    {
     "data": {
      "text/plain": [
       "True"
      ]
     },
     "execution_count": 37,
     "metadata": {},
     "output_type": "execute_result"
    }
   ],
   "source": [
    "not False"
   ]
  },
  {
   "cell_type": "code",
   "execution_count": 38,
   "id": "35f3f2c3",
   "metadata": {},
   "outputs": [
    {
     "data": {
      "text/plain": [
       "True"
      ]
     },
     "execution_count": 38,
     "metadata": {},
     "output_type": "execute_result"
    }
   ],
   "source": [
    "True and True"
   ]
  },
  {
   "cell_type": "code",
   "execution_count": 39,
   "id": "5426c752",
   "metadata": {},
   "outputs": [
    {
     "data": {
      "text/plain": [
       "False"
      ]
     },
     "execution_count": 39,
     "metadata": {},
     "output_type": "execute_result"
    }
   ],
   "source": [
    "True and False"
   ]
  },
  {
   "cell_type": "code",
   "execution_count": 41,
   "id": "92425148",
   "metadata": {},
   "outputs": [
    {
     "data": {
      "text/plain": [
       "False"
      ]
     },
     "execution_count": 41,
     "metadata": {},
     "output_type": "execute_result"
    }
   ],
   "source": [
    "#comparacion\n",
    "1<0"
   ]
  },
  {
   "cell_type": "markdown",
   "id": "85f079b3",
   "metadata": {},
   "source": [
    "# 5. Loops"
   ]
  },
  {
   "cell_type": "code",
   "execution_count": 42,
   "id": "385df1af",
   "metadata": {},
   "outputs": [
    {
     "name": "stdout",
     "output_type": "stream",
     "text": [
      "H\n",
      "o\n",
      "l\n",
      "a\n",
      " \n",
      "M\n",
      "u\n",
      "n\n",
      "d\n",
      "o\n"
     ]
    }
   ],
   "source": [
    "for letra in 'Hola Mundo':\n",
    "    print(letra)"
   ]
  },
  {
   "cell_type": "code",
   "execution_count": 44,
   "id": "34202bcc",
   "metadata": {},
   "outputs": [
    {
     "name": "stdout",
     "output_type": "stream",
     "text": [
      "Palabras: ['Hola', 'a', 'Todos']\n"
     ]
    }
   ],
   "source": [
    "my_string='Hola a Todos'\n",
    "palabras = my_string.split()\n",
    "print(f'Palabras: {palabras}')"
   ]
  },
  {
   "cell_type": "code",
   "execution_count": 45,
   "id": "c2122b6d",
   "metadata": {},
   "outputs": [
    {
     "name": "stdout",
     "output_type": "stream",
     "text": [
      "1 Hola\n",
      "2 a\n",
      "3 Todos\n"
     ]
    }
   ],
   "source": [
    "for idx, palabra in enumerate(palabras, 1):\n",
    "    print(idx, palabra)"
   ]
  },
  {
   "cell_type": "code",
   "execution_count": 49,
   "id": "de33ed4a",
   "metadata": {},
   "outputs": [
    {
     "name": "stdout",
     "output_type": "stream",
     "text": [
      "Intento numero: 1\n",
      "Intento numero: 2\n",
      "Intento numero: 3\n",
      "Intento numero: 4\n",
      "Intento numero: 5\n",
      "Intento numero: 6\n",
      "Intento numero: 7\n",
      "Intento numero: 8\n",
      "Intento numero: 9\n",
      "Intento numero: 10\n"
     ]
    }
   ],
   "source": [
    "# trabajando while loops\n",
    "max_intensos=10\n",
    "intento =1\n",
    "while intento <= max_intensos:\n",
    "    print(f'Intento numero: {intento}')\n",
    "    intento +=1"
   ]
  },
  {
   "cell_type": "markdown",
   "id": "24057f5b",
   "metadata": {},
   "source": [
    "# 6 Funciones"
   ]
  },
  {
   "cell_type": "code",
   "execution_count": 50,
   "id": "006a0e76",
   "metadata": {},
   "outputs": [
    {
     "name": "stdout",
     "output_type": "stream",
     "text": [
      "Ya me voy\n"
     ]
    }
   ],
   "source": [
    "print('Ya me voy')"
   ]
  },
  {
   "cell_type": "code",
   "execution_count": 51,
   "id": "1576e3d4",
   "metadata": {},
   "outputs": [
    {
     "data": {
      "text/plain": [
       "17"
      ]
     },
     "execution_count": 51,
     "metadata": {},
     "output_type": "execute_result"
    }
   ],
   "source": [
    "len('aprobare el curso')"
   ]
  },
  {
   "cell_type": "code",
   "execution_count": 52,
   "id": "a113fd61",
   "metadata": {},
   "outputs": [],
   "source": [
    "#creando funciones\n",
    "def saluda():\n",
    "    print('Hola')"
   ]
  },
  {
   "cell_type": "code",
   "execution_count": 54,
   "id": "76537f6c",
   "metadata": {},
   "outputs": [
    {
     "name": "stdout",
     "output_type": "stream",
     "text": [
      "Hola\n"
     ]
    }
   ],
   "source": [
    "saluda()"
   ]
  },
  {
   "cell_type": "code",
   "execution_count": 55,
   "id": "d01da1a5",
   "metadata": {},
   "outputs": [],
   "source": [
    "def saluda(nombre):\n",
    "    print(f'Hola {nombre}')"
   ]
  },
  {
   "cell_type": "code",
   "execution_count": 56,
   "id": "40ab5635",
   "metadata": {},
   "outputs": [
    {
     "name": "stdout",
     "output_type": "stream",
     "text": [
      "Hola Juan Perez\n"
     ]
    }
   ],
   "source": [
    "saluda('Juan Perez')"
   ]
  },
  {
   "cell_type": "code",
   "execution_count": 59,
   "id": "e8d52c48",
   "metadata": {},
   "outputs": [],
   "source": [
    "def bienvenido(nombre, lugar):\n",
    "    print(f'Bienvenido {nombre}, llegaste a {lugar}')"
   ]
  },
  {
   "cell_type": "code",
   "execution_count": 60,
   "id": "9d03a9ee",
   "metadata": {},
   "outputs": [
    {
     "name": "stdout",
     "output_type": "stream",
     "text": [
      "Bienvenido Diego, llegaste a Lima\n"
     ]
    }
   ],
   "source": [
    "bienvenido('Diego', 'Lima')"
   ]
  },
  {
   "cell_type": "code",
   "execution_count": 61,
   "id": "7c8e1e75",
   "metadata": {},
   "outputs": [],
   "source": [
    "def sumar(a, b):\n",
    "    return a + b"
   ]
  },
  {
   "cell_type": "code",
   "execution_count": 62,
   "id": "e9c03f9c",
   "metadata": {},
   "outputs": [
    {
     "name": "stdout",
     "output_type": "stream",
     "text": [
      "16\n"
     ]
    }
   ],
   "source": [
    "resultado = sumar(9, 7)\n",
    "print(resultado)"
   ]
  },
  {
   "cell_type": "code",
   "execution_count": 65,
   "id": "48df55af",
   "metadata": {},
   "outputs": [
    {
     "name": "stdout",
     "output_type": "stream",
     "text": [
      "La suma es numero par\n"
     ]
    }
   ],
   "source": [
    "#Reutilizando funciones con condicionales\n",
    "if sumar(9,7) %2==0:\n",
    "    print('La suma es numero par')\n",
    "else:\n",
    "    print('La suma s numero impar')"
   ]
  },
  {
   "cell_type": "code",
   "execution_count": 66,
   "id": "dd155189",
   "metadata": {},
   "outputs": [
    {
     "ename": "NameError",
     "evalue": "name 'nose' is not defined",
     "output_type": "error",
     "traceback": [
      "\u001b[31m---------------------------------------------------------------------------\u001b[39m",
      "\u001b[31mNameError\u001b[39m                                 Traceback (most recent call last)",
      "\u001b[36mCell\u001b[39m\u001b[36m \u001b[39m\u001b[32mIn[66]\u001b[39m\u001b[32m, line 1\u001b[39m\n\u001b[32m----> \u001b[39m\u001b[32m1\u001b[39m \u001b[38;5;28mprint\u001b[39m(\u001b[43mnose\u001b[49m )\n",
      "\u001b[31mNameError\u001b[39m: name 'nose' is not defined"
     ]
    }
   ],
   "source": [
    "print(nose )"
   ]
  },
  {
   "cell_type": "markdown",
   "id": "3b6e4550",
   "metadata": {},
   "source": [
    "# 7. Otros\n",
    "- Manejo de excepciones\n",
    "- Instrucciones: pass, Continue, Break"
   ]
  },
  {
   "cell_type": "code",
   "execution_count": 68,
   "id": "7302a28b",
   "metadata": {},
   "outputs": [
    {
     "ename": "NameError",
     "evalue": "name 'pritn' is not defined",
     "output_type": "error",
     "traceback": [
      "\u001b[31m---------------------------------------------------------------------------\u001b[39m",
      "\u001b[31mNameError\u001b[39m                                 Traceback (most recent call last)",
      "\u001b[36mCell\u001b[39m\u001b[36m \u001b[39m\u001b[32mIn[68]\u001b[39m\u001b[32m, line 2\u001b[39m\n\u001b[32m      1\u001b[39m \u001b[38;5;66;03m# NameError\u001b[39;00m\n\u001b[32m----> \u001b[39m\u001b[32m2\u001b[39m \u001b[43mpritn\u001b[49m(\u001b[33m'\u001b[39m\u001b[33mTest\u001b[39m\u001b[33m'\u001b[39m)\n",
      "\u001b[31mNameError\u001b[39m: name 'pritn' is not defined"
     ]
    }
   ],
   "source": [
    "# NameError\n",
    "pritn('Test')"
   ]
  },
  {
   "cell_type": "code",
   "execution_count": 69,
   "id": "e703073f",
   "metadata": {},
   "outputs": [
    {
     "name": "stdout",
     "output_type": "stream",
     "text": [
      "Test\n"
     ]
    }
   ],
   "source": [
    "try:\n",
    "    print('Test')\n",
    "except:\n",
    "    print('Esto es un error de NameError')"
   ]
  },
  {
   "cell_type": "code",
   "execution_count": 70,
   "id": "9ff600e0",
   "metadata": {},
   "outputs": [
    {
     "ename": "KeyError",
     "evalue": "'apellido'",
     "output_type": "error",
     "traceback": [
      "\u001b[31m---------------------------------------------------------------------------\u001b[39m",
      "\u001b[31mKeyError\u001b[39m                                  Traceback (most recent call last)",
      "\u001b[36mCell\u001b[39m\u001b[36m \u001b[39m\u001b[32mIn[70]\u001b[39m\u001b[32m, line 3\u001b[39m\n\u001b[32m      1\u001b[39m \u001b[38;5;66;03m#Errorres comunes: KeyError\u001b[39;00m\n\u001b[32m      2\u001b[39m dict_alumno={\u001b[33m'\u001b[39m\u001b[33mnombre\u001b[39m\u001b[33m'\u001b[39m:\u001b[33m'\u001b[39m\u001b[33mDiego\u001b[39m\u001b[33m'\u001b[39m}\n\u001b[32m----> \u001b[39m\u001b[32m3\u001b[39m \u001b[43mdict_alumno\u001b[49m\u001b[43m[\u001b[49m\u001b[33;43m'\u001b[39;49m\u001b[33;43mapellido\u001b[39;49m\u001b[33;43m'\u001b[39;49m\u001b[43m]\u001b[49m\n",
      "\u001b[31mKeyError\u001b[39m: 'apellido'"
     ]
    }
   ],
   "source": [
    "#Errorres comunes: KeyError\n",
    "dict_alumno={'nombre':'Diego'}\n",
    "dict_alumno['apellido']"
   ]
  },
  {
   "cell_type": "code",
   "execution_count": 72,
   "id": "1d936318",
   "metadata": {},
   "outputs": [
    {
     "name": "stdout",
     "output_type": "stream",
     "text": [
      "Esto es un error KeyError\n"
     ]
    }
   ],
   "source": [
    "try:\n",
    "    dict_alumno['apellido']\n",
    "except:\n",
    "    print('Esto es un error KeyError')"
   ]
  },
  {
   "cell_type": "code",
   "execution_count": 73,
   "id": "52eb9236",
   "metadata": {},
   "outputs": [
    {
     "ename": "IndexError",
     "evalue": "list index out of range",
     "output_type": "error",
     "traceback": [
      "\u001b[31m---------------------------------------------------------------------------\u001b[39m",
      "\u001b[31mIndexError\u001b[39m                                Traceback (most recent call last)",
      "\u001b[36mCell\u001b[39m\u001b[36m \u001b[39m\u001b[32mIn[73]\u001b[39m\u001b[32m, line 3\u001b[39m\n\u001b[32m      1\u001b[39m \u001b[38;5;66;03m# Errores al indexar: indexError\u001b[39;00m\n\u001b[32m      2\u001b[39m lista= [\u001b[32m1\u001b[39m,\u001b[32m2\u001b[39m,\u001b[32m3\u001b[39m]\n\u001b[32m----> \u001b[39m\u001b[32m3\u001b[39m \u001b[43mlista\u001b[49m\u001b[43m[\u001b[49m\u001b[32;43m7\u001b[39;49m\u001b[43m]\u001b[49m\n",
      "\u001b[31mIndexError\u001b[39m: list index out of range"
     ]
    }
   ],
   "source": [
    "# Errores al indexar: indexError\n",
    "lista= [1,2,3]\n",
    "lista[7]"
   ]
  },
  {
   "cell_type": "code",
   "execution_count": 74,
   "id": "3c824763",
   "metadata": {},
   "outputs": [
    {
     "name": "stdout",
     "output_type": "stream",
     "text": [
      "Esto es un error IndexError\n"
     ]
    }
   ],
   "source": [
    "try:\n",
    "    lista[7]\n",
    "except:\n",
    "    print('Esto es un error IndexError')"
   ]
  },
  {
   "cell_type": "code",
   "execution_count": 76,
   "id": "b4fcd0ec",
   "metadata": {},
   "outputs": [],
   "source": [
    "#Funciones detectar error\n",
    "def get_cociente(x,y):\n",
    "    try:\n",
    "        resultado = x / y\n",
    "        \n",
    "    except ZeroDivisionError:\n",
    "        return 'No es posible la division por cero'\n",
    "    except TypeError:\n",
    "        print('Error de TypeError. Detalle: ', e)\n",
    "    else:\n",
    "        print('El resultado es: ', resultado)\n",
    "    finally:\n",
    "        print('Esto siempre se ejcuta')\n",
    "            "
   ]
  },
  {
   "cell_type": "code",
   "execution_count": 77,
   "id": "099e3f83",
   "metadata": {},
   "outputs": [
    {
     "name": "stdout",
     "output_type": "stream",
     "text": [
      "El resultado es:  1.2857142857142858\n",
      "Esto siempre se ejcuta\n"
     ]
    }
   ],
   "source": [
    "get_cociente(9,7)"
   ]
  },
  {
   "cell_type": "code",
   "execution_count": 79,
   "id": "25e51221",
   "metadata": {},
   "outputs": [
    {
     "name": "stdout",
     "output_type": "stream",
     "text": [
      "Esto siempre se ejcuta\n"
     ]
    },
    {
     "ename": "NameError",
     "evalue": "name 'e' is not defined",
     "output_type": "error",
     "traceback": [
      "\u001b[31m---------------------------------------------------------------------------\u001b[39m",
      "\u001b[31mTypeError\u001b[39m                                 Traceback (most recent call last)",
      "\u001b[36mCell\u001b[39m\u001b[36m \u001b[39m\u001b[32mIn[76]\u001b[39m\u001b[32m, line 4\u001b[39m, in \u001b[36mget_cociente\u001b[39m\u001b[34m(x, y)\u001b[39m\n\u001b[32m      3\u001b[39m \u001b[38;5;28;01mtry\u001b[39;00m:\n\u001b[32m----> \u001b[39m\u001b[32m4\u001b[39m     resultado = \u001b[43mx\u001b[49m\u001b[43m \u001b[49m\u001b[43m/\u001b[49m\u001b[43m \u001b[49m\u001b[43my\u001b[49m\n\u001b[32m      6\u001b[39m \u001b[38;5;28;01mexcept\u001b[39;00m \u001b[38;5;167;01mZeroDivisionError\u001b[39;00m:\n",
      "\u001b[31mTypeError\u001b[39m: unsupported operand type(s) for /: 'int' and 'str'",
      "\nDuring handling of the above exception, another exception occurred:\n",
      "\u001b[31mNameError\u001b[39m                                 Traceback (most recent call last)",
      "\u001b[36mCell\u001b[39m\u001b[36m \u001b[39m\u001b[32mIn[79]\u001b[39m\u001b[32m, line 1\u001b[39m\n\u001b[32m----> \u001b[39m\u001b[32m1\u001b[39m \u001b[43mget_cociente\u001b[49m\u001b[43m(\u001b[49m\u001b[32;43m16\u001b[39;49m\u001b[43m,\u001b[49m\u001b[33;43m'\u001b[39;49m\u001b[33;43ma\u001b[39;49m\u001b[33;43m'\u001b[39;49m\u001b[43m)\u001b[49m\n",
      "\u001b[36mCell\u001b[39m\u001b[36m \u001b[39m\u001b[32mIn[76]\u001b[39m\u001b[32m, line 9\u001b[39m, in \u001b[36mget_cociente\u001b[39m\u001b[34m(x, y)\u001b[39m\n\u001b[32m      7\u001b[39m     \u001b[38;5;28;01mreturn\u001b[39;00m \u001b[33m'\u001b[39m\u001b[33mNo es posible la division por cero\u001b[39m\u001b[33m'\u001b[39m\n\u001b[32m      8\u001b[39m \u001b[38;5;28;01mexcept\u001b[39;00m \u001b[38;5;167;01mTypeError\u001b[39;00m:\n\u001b[32m----> \u001b[39m\u001b[32m9\u001b[39m     \u001b[38;5;28mprint\u001b[39m(\u001b[33m'\u001b[39m\u001b[33mError de TypeError. Detalle: \u001b[39m\u001b[33m'\u001b[39m, \u001b[43me\u001b[49m)\n\u001b[32m     10\u001b[39m \u001b[38;5;28;01melse\u001b[39;00m:\n\u001b[32m     11\u001b[39m     \u001b[38;5;28mprint\u001b[39m(\u001b[33m'\u001b[39m\u001b[33mEl resultado es: \u001b[39m\u001b[33m'\u001b[39m, resultado)\n",
      "\u001b[31mNameError\u001b[39m: name 'e' is not defined"
     ]
    }
   ],
   "source": [
    "get_cociente(16,'a')"
   ]
  },
  {
   "cell_type": "code",
   "execution_count": 80,
   "id": "0b4bc58e",
   "metadata": {},
   "outputs": [
    {
     "name": "stdout",
     "output_type": "stream",
     "text": [
      "Esto siempre se ejcuta\n"
     ]
    },
    {
     "data": {
      "text/plain": [
       "'No es posible la division por cero'"
      ]
     },
     "execution_count": 80,
     "metadata": {},
     "output_type": "execute_result"
    }
   ],
   "source": [
    "get_cociente(55,0)"
   ]
  },
  {
   "cell_type": "code",
   "execution_count": null,
   "id": "15642fc4",
   "metadata": {},
   "outputs": [],
   "source": []
  }
 ],
 "metadata": {
  "kernelspec": {
   "display_name": "myenv",
   "language": "python",
   "name": "python3"
  },
  "language_info": {
   "codemirror_mode": {
    "name": "ipython",
    "version": 3
   },
   "file_extension": ".py",
   "mimetype": "text/x-python",
   "name": "python",
   "nbconvert_exporter": "python",
   "pygments_lexer": "ipython3",
   "version": "3.13.7"
  }
 },
 "nbformat": 4,
 "nbformat_minor": 5
}
