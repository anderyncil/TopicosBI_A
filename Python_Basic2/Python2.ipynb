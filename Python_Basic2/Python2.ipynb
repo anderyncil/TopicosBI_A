{
 "cells": [
  {
   "cell_type": "markdown",
   "id": "af13079d",
   "metadata": {},
   "source": [
    "# Python using Panda and Numpy for Big Data\n",
    "\n",
    "Instala las librerias Pandas, Numpy para trabajar con Datos masivos.\n",
    "## Lenguaje Programación\n",
    "-Python\n",
    "\n",
    "# Autor\n",
    "\n",
    "Derechos Reservados © Yncil Ramirez Diego Anderson"
   ]
  }
 ],
 "metadata": {
  "language_info": {
   "name": "python"
  }
 },
 "nbformat": 4,
 "nbformat_minor": 5
}
